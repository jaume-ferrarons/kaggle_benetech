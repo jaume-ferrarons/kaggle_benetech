{
 "cells": [
  {
   "cell_type": "code",
   "execution_count": 1,
   "metadata": {},
   "outputs": [
    {
     "ename": "ImportError",
     "evalue": "dlopen(/Users/jaume.ferrarons/Programació/benetech/.venv/lib/python3.9/site-packages/cv2/cv2.cpython-39-darwin.so, 0x0002): Library not loaded: @loader_path/.dylibs/libavcodec.58.134.100.dylib\n  Referenced from: <A60B6902-B94C-3269-879C-BAC1091A34DB> /Users/jaume.ferrarons/Programació/benetech/.venv/lib/python3.9/site-packages/cv2/cv2.cpython-39-darwin.so\n  Reason: tried: '/Users/jaume.ferrarons/Programació/benetech/.venv/lib/python3.9/site-packages/cv2/.dylibs/libavcodec.58.134.100.dylib' (no such file), '/System/Volumes/Preboot/Cryptexes/OS@loader_path/.dylibs/libavcodec.58.134.100.dylib' (no such file), '/Users/jaume.ferrarons/Programació/benetech/.venv/lib/python3.9/site-packages/cv2/.dylibs/libavcodec.58.134.100.dylib' (no such file), '/usr/lib/libavcodec.58.134.100.dylib' (no such file, not in dyld cache)",
     "output_type": "error",
     "traceback": [
      "\u001b[0;31m---------------------------------------------------------------------------\u001b[0m",
      "\u001b[0;31mImportError\u001b[0m                               Traceback (most recent call last)",
      "Cell \u001b[0;32mIn[1], line 1\u001b[0m\n\u001b[0;32m----> 1\u001b[0m \u001b[39mimport\u001b[39;00m \u001b[39mkeras_ocr\u001b[39;00m\n\u001b[1;32m      2\u001b[0m \u001b[39mfrom\u001b[39;00m \u001b[39mIPython\u001b[39;00m\u001b[39m.\u001b[39;00m\u001b[39mdisplay\u001b[39;00m \u001b[39mimport\u001b[39;00m Image\n\u001b[1;32m      3\u001b[0m \u001b[39mimport\u001b[39;00m \u001b[39mskimage\u001b[39;00m\n",
      "File \u001b[0;32m~/Programació/benetech/.venv/lib/python3.9/site-packages/keras_ocr/__init__.py:1\u001b[0m\n\u001b[0;32m----> 1\u001b[0m \u001b[39mfrom\u001b[39;00m \u001b[39m.\u001b[39;00m \u001b[39mimport\u001b[39;00m (\n\u001b[1;32m      2\u001b[0m     detection,\n\u001b[1;32m      3\u001b[0m     recognition,\n\u001b[1;32m      4\u001b[0m     tools,\n\u001b[1;32m      5\u001b[0m     data_generation,\n\u001b[1;32m      6\u001b[0m     pipeline,\n\u001b[1;32m      7\u001b[0m     evaluation,\n\u001b[1;32m      8\u001b[0m     datasets,\n\u001b[1;32m      9\u001b[0m     config,\n\u001b[1;32m     10\u001b[0m )\n\u001b[1;32m     12\u001b[0m __version__ \u001b[39m=\u001b[39m \u001b[39m\"\u001b[39m\u001b[39m0.9.2\u001b[39m\u001b[39m\"\u001b[39m\n",
      "File \u001b[0;32m~/Programació/benetech/.venv/lib/python3.9/site-packages/keras_ocr/detection.py:25\u001b[0m\n\u001b[1;32m      2\u001b[0m \u001b[39mimport\u001b[39;00m \u001b[39mtyping\u001b[39;00m\n\u001b[1;32m      4\u001b[0m \u001b[39m# The PyTorch portions of this code are subject to the following copyright notice.\u001b[39;00m\n\u001b[1;32m      5\u001b[0m \u001b[39m# Copyright (c) 2019-present NAVER Corp.\u001b[39;00m\n\u001b[1;32m      6\u001b[0m \n\u001b[0;32m   (...)\u001b[0m\n\u001b[1;32m     22\u001b[0m \u001b[39m# OUT OF OR IN CONNECTION WITH THE SOFTWARE OR THE USE OR OTHER DEALINGS IN\u001b[39;00m\n\u001b[1;32m     23\u001b[0m \u001b[39m# THE SOFTWARE.\u001b[39;00m\n\u001b[0;32m---> 25\u001b[0m \u001b[39mimport\u001b[39;00m \u001b[39mcv2\u001b[39;00m\n\u001b[1;32m     26\u001b[0m \u001b[39mimport\u001b[39;00m \u001b[39mnumpy\u001b[39;00m \u001b[39mas\u001b[39;00m \u001b[39mnp\u001b[39;00m\n\u001b[1;32m     27\u001b[0m \u001b[39mimport\u001b[39;00m \u001b[39mtensorflow\u001b[39;00m \u001b[39mas\u001b[39;00m \u001b[39mtf\u001b[39;00m\n",
      "File \u001b[0;32m~/Programació/benetech/.venv/lib/python3.9/site-packages/cv2/__init__.py:181\u001b[0m\n\u001b[1;32m    176\u001b[0m             \u001b[39mif\u001b[39;00m DEBUG: \u001b[39mprint\u001b[39m(\u001b[39m\"\u001b[39m\u001b[39mExtra Python code for\u001b[39m\u001b[39m\"\u001b[39m, submodule, \u001b[39m\"\u001b[39m\u001b[39mis loaded\u001b[39m\u001b[39m\"\u001b[39m)\n\u001b[1;32m    178\u001b[0m     \u001b[39mif\u001b[39;00m DEBUG: \u001b[39mprint\u001b[39m(\u001b[39m'\u001b[39m\u001b[39mOpenCV loader: DONE\u001b[39m\u001b[39m'\u001b[39m)\n\u001b[0;32m--> 181\u001b[0m bootstrap()\n",
      "File \u001b[0;32m~/Programació/benetech/.venv/lib/python3.9/site-packages/cv2/__init__.py:153\u001b[0m, in \u001b[0;36mbootstrap\u001b[0;34m()\u001b[0m\n\u001b[1;32m    149\u001b[0m \u001b[39mif\u001b[39;00m DEBUG: \u001b[39mprint\u001b[39m(\u001b[39m\"\u001b[39m\u001b[39mRelink everything from native cv2 module to cv2 package\u001b[39m\u001b[39m\"\u001b[39m)\n\u001b[1;32m    151\u001b[0m py_module \u001b[39m=\u001b[39m sys\u001b[39m.\u001b[39mmodules\u001b[39m.\u001b[39mpop(\u001b[39m\"\u001b[39m\u001b[39mcv2\u001b[39m\u001b[39m\"\u001b[39m)\n\u001b[0;32m--> 153\u001b[0m native_module \u001b[39m=\u001b[39m importlib\u001b[39m.\u001b[39;49mimport_module(\u001b[39m\"\u001b[39;49m\u001b[39mcv2\u001b[39;49m\u001b[39m\"\u001b[39;49m)\n\u001b[1;32m    155\u001b[0m sys\u001b[39m.\u001b[39mmodules[\u001b[39m\"\u001b[39m\u001b[39mcv2\u001b[39m\u001b[39m\"\u001b[39m] \u001b[39m=\u001b[39m py_module\n\u001b[1;32m    156\u001b[0m \u001b[39msetattr\u001b[39m(py_module, \u001b[39m\"\u001b[39m\u001b[39m_native\u001b[39m\u001b[39m\"\u001b[39m, native_module)\n",
      "File \u001b[0;32m/Library/Frameworks/Python.framework/Versions/3.9/lib/python3.9/importlib/__init__.py:127\u001b[0m, in \u001b[0;36mimport_module\u001b[0;34m(name, package)\u001b[0m\n\u001b[1;32m    125\u001b[0m             \u001b[39mbreak\u001b[39;00m\n\u001b[1;32m    126\u001b[0m         level \u001b[39m+\u001b[39m\u001b[39m=\u001b[39m \u001b[39m1\u001b[39m\n\u001b[0;32m--> 127\u001b[0m \u001b[39mreturn\u001b[39;00m _bootstrap\u001b[39m.\u001b[39;49m_gcd_import(name[level:], package, level)\n",
      "\u001b[0;31mImportError\u001b[0m: dlopen(/Users/jaume.ferrarons/Programació/benetech/.venv/lib/python3.9/site-packages/cv2/cv2.cpython-39-darwin.so, 0x0002): Library not loaded: @loader_path/.dylibs/libavcodec.58.134.100.dylib\n  Referenced from: <A60B6902-B94C-3269-879C-BAC1091A34DB> /Users/jaume.ferrarons/Programació/benetech/.venv/lib/python3.9/site-packages/cv2/cv2.cpython-39-darwin.so\n  Reason: tried: '/Users/jaume.ferrarons/Programació/benetech/.venv/lib/python3.9/site-packages/cv2/.dylibs/libavcodec.58.134.100.dylib' (no such file), '/System/Volumes/Preboot/Cryptexes/OS@loader_path/.dylibs/libavcodec.58.134.100.dylib' (no such file), '/Users/jaume.ferrarons/Programació/benetech/.venv/lib/python3.9/site-packages/cv2/.dylibs/libavcodec.58.134.100.dylib' (no such file), '/usr/lib/libavcodec.58.134.100.dylib' (no such file, not in dyld cache)"
     ]
    }
   ],
   "source": [
    "import keras_ocr\n",
    "from IPython.display import Image\n",
    "import skimage\n",
    "import matplotlib.pyplot as plt\n",
    "\n",
    "\n",
    "pipeline = keras_ocr.pipeline.Pipeline()\n",
    "image_path = '../data/train/images/e91e28111e86.jpg'\n",
    "image_path = '../data/test/images/00f5404753cf.jpg'\n",
    "result = pipeline.recognize([image_path])"
   ]
  },
  {
   "cell_type": "code",
   "execution_count": null,
   "metadata": {},
   "outputs": [],
   "source": [
    "result"
   ]
  },
  {
   "cell_type": "code",
   "execution_count": null,
   "metadata": {},
   "outputs": [],
   "source": [
    "Image(image_path)"
   ]
  },
  {
   "cell_type": "code",
   "execution_count": null,
   "metadata": {},
   "outputs": [],
   "source": [
    "[r[1] for r in result]"
   ]
  },
  {
   "cell_type": "code",
   "execution_count": null,
   "metadata": {},
   "outputs": [],
   "source": [
    "result[0]\n"
   ]
  },
  {
   "cell_type": "code",
   "execution_count": null,
   "metadata": {},
   "outputs": [],
   "source": [
    "image = skimage.io.imread(image_path)\n",
    "\n",
    "\n",
    "plt.imshow(image)\n",
    "for coord, (text, _) in result[0]:\n",
    "    plt.text((coord[0][0] + coord[1][0])/2, (coord[0][1] + coord[3][1])/2, text, c='g',\n",
    "                horizontalalignment='center',\n",
    "                verticalalignment='center',)\n",
    "plt.show()\n"
   ]
  },
  {
   "cell_type": "code",
   "execution_count": null,
   "metadata": {},
   "outputs": [],
   "source": [
    "reader.recognize(image)"
   ]
  }
 ],
 "metadata": {
  "kernelspec": {
   "display_name": ".venv",
   "language": "python",
   "name": "python3"
  },
  "language_info": {
   "codemirror_mode": {
    "name": "ipython",
    "version": 3
   },
   "file_extension": ".py",
   "mimetype": "text/x-python",
   "name": "python",
   "nbconvert_exporter": "python",
   "pygments_lexer": "ipython3",
   "version": "3.9.12"
  },
  "orig_nbformat": 4
 },
 "nbformat": 4,
 "nbformat_minor": 2
}
