{
 "cells": [
  {
   "cell_type": "code",
   "execution_count": 28,
   "metadata": {},
   "outputs": [],
   "source": [
    "import math\n",
    "import glob\n",
    "\n",
    "import pandas as pd\n",
    "import skimage\n",
    "import matplotlib.pyplot as plt\n",
    "import numpy as np\n",
    "from sklearn.model_selection import train_test_split\n",
    "from tqdm.notebook import tqdm\n",
    "import tensorflow as tf\n",
    "import multiprocess\n",
    "tqdm.pandas()\n",
    "\n",
    "pool = multiprocess.Pool()\n",
    "\n",
    "from IPython.display import Image, display\n",
    "\n",
    "ANNOTATIONS_FILE = \"annotations.pkl\"\n",
    "IMAGE_PREFIX = \"../data/train/images/\"\n",
    "TEST_IMAGES_PATH = \"../data/test/images/*\""
   ]
  },
  {
   "cell_type": "code",
   "execution_count": 29,
   "metadata": {},
   "outputs": [
    {
     "data": {
      "text/html": [
       "<div>\n",
       "<style scoped>\n",
       "    .dataframe tbody tr th:only-of-type {\n",
       "        vertical-align: middle;\n",
       "    }\n",
       "\n",
       "    .dataframe tbody tr th {\n",
       "        vertical-align: top;\n",
       "    }\n",
       "\n",
       "    .dataframe thead th {\n",
       "        text-align: right;\n",
       "    }\n",
       "</style>\n",
       "<table border=\"1\" class=\"dataframe\">\n",
       "  <thead>\n",
       "    <tr style=\"text-align: right;\">\n",
       "      <th></th>\n",
       "      <th>source</th>\n",
       "      <th>chart-type</th>\n",
       "      <th>plot-bb</th>\n",
       "      <th>text</th>\n",
       "      <th>axes</th>\n",
       "      <th>data-series</th>\n",
       "      <th>image</th>\n",
       "      <th>image_path</th>\n",
       "    </tr>\n",
       "  </thead>\n",
       "  <tbody>\n",
       "    <tr>\n",
       "      <th>0</th>\n",
       "      <td>generated</td>\n",
       "      <td>scatter</td>\n",
       "      <td>{'height': 231, 'width': 416, 'x0': 57, 'y0': 65}</td>\n",
       "      <td>[{'id': 0, 'polygon': {'x0': 85, 'x1': 478, 'x...</td>\n",
       "      <td>{'x-axis': {'ticks': [{'id': 9, 'tick_pt': {'x...</td>\n",
       "      <td>[{'x': 1949.4200576738224, 'y': 66.68303958393...</td>\n",
       "      <td>e91e28111e86.jpg</td>\n",
       "      <td>../data/train/images/e91e28111e86.jpg</td>\n",
       "    </tr>\n",
       "    <tr>\n",
       "      <th>1</th>\n",
       "      <td>generated</td>\n",
       "      <td>vertical_bar</td>\n",
       "      <td>{'height': 164, 'width': 393, 'x0': 68, 'y0': 37}</td>\n",
       "      <td>[{'id': 0, 'polygon': {'x0': 109, 'x1': 355, '...</td>\n",
       "      <td>{'x-axis': {'ticks': [{'id': 11, 'tick_pt': {'...</td>\n",
       "      <td>[{'x': 'Jordan', 'y': 88.35159235668789}, {'x'...</td>\n",
       "      <td>75c0449f6917.jpg</td>\n",
       "      <td>../data/train/images/75c0449f6917.jpg</td>\n",
       "    </tr>\n",
       "  </tbody>\n",
       "</table>\n",
       "</div>"
      ],
      "text/plain": [
       "      source    chart-type                                            plot-bb  \\\n",
       "0  generated       scatter  {'height': 231, 'width': 416, 'x0': 57, 'y0': 65}   \n",
       "1  generated  vertical_bar  {'height': 164, 'width': 393, 'x0': 68, 'y0': 37}   \n",
       "\n",
       "                                                text  \\\n",
       "0  [{'id': 0, 'polygon': {'x0': 85, 'x1': 478, 'x...   \n",
       "1  [{'id': 0, 'polygon': {'x0': 109, 'x1': 355, '...   \n",
       "\n",
       "                                                axes  \\\n",
       "0  {'x-axis': {'ticks': [{'id': 9, 'tick_pt': {'x...   \n",
       "1  {'x-axis': {'ticks': [{'id': 11, 'tick_pt': {'...   \n",
       "\n",
       "                                         data-series             image  \\\n",
       "0  [{'x': 1949.4200576738224, 'y': 66.68303958393...  e91e28111e86.jpg   \n",
       "1  [{'x': 'Jordan', 'y': 88.35159235668789}, {'x'...  75c0449f6917.jpg   \n",
       "\n",
       "                              image_path  \n",
       "0  ../data/train/images/e91e28111e86.jpg  \n",
       "1  ../data/train/images/75c0449f6917.jpg  "
      ]
     },
     "execution_count": 29,
     "metadata": {},
     "output_type": "execute_result"
    }
   ],
   "source": [
    "annotations = pd.read_pickle(ANNOTATIONS_FILE)\n",
    "annotations['image_path'] = IMAGE_PREFIX + annotations.image\n",
    "annotations.head(2)"
   ]
  },
  {
   "cell_type": "code",
   "execution_count": 30,
   "metadata": {},
   "outputs": [],
   "source": [
    "IMAGE_SIZE = (128, 128)\n",
    "\n",
    "def load_squared_gray_pictures(image_path):\n",
    "    image = skimage.io.imread(image_path)\n",
    "    gray_image = skimage.color.rgb2gray(image)\n",
    "    return skimage.transform.resize(gray_image, IMAGE_SIZE)"
   ]
  },
  {
   "cell_type": "code",
   "execution_count": 31,
   "metadata": {},
   "outputs": [],
   "source": [
    "chart_type_labels = annotations['chart-type'].unique()\n",
    "id_to_chart_type = dict(enumerate(chart_type_labels))\n",
    "chart_type_to_id = {v: k for k, v in id_to_chart_type.items()}"
   ]
  },
  {
   "cell_type": "code",
   "execution_count": 32,
   "metadata": {},
   "outputs": [],
   "source": [
    "annotations_train, annotations_test = train_test_split(annotations, test_size=0.2, stratify=annotations['chart-type'], random_state=123)\n",
    "annotations_train, annotations_val = train_test_split(annotations_train, test_size=0.2, stratify=annotations_train['chart-type'], random_state=123)"
   ]
  },
  {
   "cell_type": "code",
   "execution_count": 33,
   "metadata": {},
   "outputs": [],
   "source": [
    "class ChartClassificationGenerator(tf.keras.utils.Sequence):\n",
    "    def __init__(\n",
    "        self,\n",
    "        annotations,\n",
    "        batch_size: int = 32,\n",
    "        shuffle: bool = False,\n",
    "        random_state: int = 123,\n",
    "    ) -> None:\n",
    "        super().__init__()\n",
    "        self.shuffle = shuffle\n",
    "        self.images_path = annotations.image_path.values\n",
    "        self.labels = annotations[\"chart-type\"].map(chart_type_to_id).values\n",
    "        self.indices = np.arange(len(self.images_path))\n",
    "        self.batch_size = batch_size\n",
    "        self.random = np.random.RandomState(random_state)\n",
    "        self.on_epoch_end()\n",
    "\n",
    "    def __len__(self):\n",
    "        return math.ceil(len(self.images_path) / self.batch_size)\n",
    "\n",
    "    def __getitem__(self, idx):\n",
    "        indices = self.indices[idx * self.batch_size : (idx + 1) * self.batch_size]\n",
    "        pictures = np.stack(\n",
    "            [self.load_image(image_path) for image_path in self.images_path[indices]]\n",
    "        )\n",
    "        return pictures, self.labels[indices]\n",
    "\n",
    "    def on_epoch_end(self):\n",
    "        if self.shuffle:\n",
    "            self.random.shuffle(self.indices)\n",
    "\n",
    "    @staticmethod\n",
    "    def load_image(image_path: str):\n",
    "        image = skimage.io.imread(image_path)\n",
    "        gray_image = skimage.color.rgb2gray(image)\n",
    "        return skimage.transform.resize(gray_image, IMAGE_SIZE)\n"
   ]
  },
  {
   "cell_type": "code",
   "execution_count": 34,
   "metadata": {},
   "outputs": [],
   "source": [
    "import tensorflow as tf\n",
    "from tensorflow import keras\n",
    "from keras import layers\n",
    "\n",
    "BATCH_SIZE = 32\n",
    "\n",
    "simple_aug = tf.keras.Sequential(\n",
    "    [\n",
    "        layers.RandomFlip(\"horizontal\"),\n",
    "        layers.RandomRotation(factor=0.02),\n",
    "        layers.RandomZoom(height_factor=0.1, width_factor=0.1),\n",
    "    ]\n",
    ")"
   ]
  },
  {
   "cell_type": "code",
   "execution_count": 35,
   "metadata": {},
   "outputs": [
    {
     "name": "stdout",
     "output_type": "stream",
     "text": [
      "Model: \"sequential_7\"\n",
      "_________________________________________________________________\n",
      " Layer (type)                Output Shape              Param #   \n",
      "=================================================================\n",
      " conv2d_6 (Conv2D)           (None, 128, 128, 32)      320       \n",
      "                                                                 \n",
      " pool1 (MaxPooling2D)        (None, 64, 64, 32)        0         \n",
      "                                                                 \n",
      " conv2d_7 (Conv2D)           (None, 64, 64, 64)        18496     \n",
      "                                                                 \n",
      " pool2 (MaxPooling2D)        (None, 32, 32, 64)        0         \n",
      "                                                                 \n",
      " reshape (Reshape)           (None, 32, 2048)          0         \n",
      "                                                                 \n",
      " dense1 (Dense)              (None, 32, 64)            131136    \n",
      "                                                                 \n",
      " dropout_3 (Dropout)         (None, 32, 64)            0         \n",
      "                                                                 \n",
      " flatten_3 (Flatten)         (None, 2048)              0         \n",
      "                                                                 \n",
      " dense_3 (Dense)             (None, 32)                65568     \n",
      "                                                                 \n",
      " output (Dense)              (None, 5)                 165       \n",
      "                                                                 \n",
      "=================================================================\n",
      "Total params: 215,685\n",
      "Trainable params: 215,685\n",
      "Non-trainable params: 0\n",
      "_________________________________________________________________\n"
     ]
    }
   ],
   "source": [
    "def build_chart_type_model(n_classes):\n",
    "    new_shape = ((IMAGE_SIZE[0] // 4), (IMAGE_SIZE[1] // 4) * 64)\n",
    "    model = tf.keras.Sequential([\n",
    "        layers.Input(shape=(IMAGE_SIZE[0], IMAGE_SIZE[1], 1), name=\"image\", dtype=\"float32\"),\n",
    "        layers.Conv2D(32, (3, 3), activation=\"relu\", kernel_initializer=\"he_normal\", padding=\"same\"),\n",
    "        layers.MaxPooling2D((2, 2), name=\"pool1\"),\n",
    "        layers.Conv2D(64, (3, 3), activation=\"relu\", kernel_initializer=\"he_normal\", padding=\"same\"),\n",
    "        layers.MaxPooling2D((2, 2), name=\"pool2\"),\n",
    "        layers.Reshape(target_shape=new_shape, name=\"reshape\"),\n",
    "        layers.Dense(64, activation=\"linear\", name=\"dense1\"),\n",
    "        layers.Dropout(0.2),\n",
    "        layers.Flatten(),\n",
    "        layers.Dense(32, activation=\"relu\"),\n",
    "        layers.Dense(n_classes, activation=\"softmax\", name=\"output\")\n",
    "    ])\n",
    "    model.compile(optimizer='adam', loss='sparse_categorical_crossentropy', metrics=['accuracy'])\n",
    "    return model\n",
    "\n",
    "chart_type_model = build_chart_type_model(len(chart_type_to_id))\n",
    "chart_type_model.summary()"
   ]
  },
  {
   "cell_type": "code",
   "execution_count": 36,
   "metadata": {},
   "outputs": [
    {
     "name": "stdout",
     "output_type": "stream",
     "text": [
      "Epoch 1/10\n"
     ]
    },
    {
     "name": "stderr",
     "output_type": "stream",
     "text": [
      "2023-03-30 20:49:22.852398: I tensorflow/core/common_runtime/executor.cc:1197] [/device:CPU:0] (DEBUG INFO) Executor start aborting (this does not indicate an error and you can ignore this message): INVALID_ARGUMENT: You must feed a value for placeholder tensor 'Placeholder/_0' with dtype int32\n",
      "\t [[{{node Placeholder/_0}}]]\n"
     ]
    },
    {
     "name": "stdout",
     "output_type": "stream",
     "text": [
      "63/63 [==============================] - ETA: 0s - loss: 1.0750 - accuracy: 0.5675"
     ]
    },
    {
     "name": "stderr",
     "output_type": "stream",
     "text": [
      "2023-03-30 20:50:13.354057: I tensorflow/core/common_runtime/executor.cc:1197] [/device:CPU:0] (DEBUG INFO) Executor start aborting (this does not indicate an error and you can ignore this message): INVALID_ARGUMENT: You must feed a value for placeholder tensor 'Placeholder/_0' with dtype int32\n",
      "\t [[{{node Placeholder/_0}}]]\n"
     ]
    },
    {
     "name": "stdout",
     "output_type": "stream",
     "text": [
      "63/63 [==============================] - 53s 822ms/step - loss: 1.0750 - accuracy: 0.5675 - val_loss: 0.6154 - val_accuracy: 0.7000\n",
      "Epoch 2/10\n",
      "63/63 [==============================] - 31s 498ms/step - loss: 0.5113 - accuracy: 0.7845 - val_loss: 0.3497 - val_accuracy: 0.9100\n",
      "Epoch 3/10\n",
      "63/63 [==============================] - 32s 504ms/step - loss: 0.3461 - accuracy: 0.8575 - val_loss: 0.2205 - val_accuracy: 0.9600\n",
      "Epoch 4/10\n",
      "63/63 [==============================] - 31s 485ms/step - loss: 0.2545 - accuracy: 0.8985 - val_loss: 0.2563 - val_accuracy: 0.9000\n",
      "Epoch 5/10\n",
      "63/63 [==============================] - 30s 480ms/step - loss: 0.1752 - accuracy: 0.9330 - val_loss: 0.1463 - val_accuracy: 0.9300\n",
      "Epoch 6/10\n",
      "63/63 [==============================] - 32s 505ms/step - loss: 0.1737 - accuracy: 0.9395 - val_loss: 0.1425 - val_accuracy: 0.9600\n",
      "Epoch 7/10\n",
      "63/63 [==============================] - 31s 497ms/step - loss: 0.1123 - accuracy: 0.9600 - val_loss: 0.0894 - val_accuracy: 0.9700\n",
      "Epoch 8/10\n",
      "63/63 [==============================] - 33s 529ms/step - loss: 0.0710 - accuracy: 0.9770 - val_loss: 0.0763 - val_accuracy: 0.9600\n",
      "Epoch 9/10\n",
      "63/63 [==============================] - 31s 495ms/step - loss: 0.0656 - accuracy: 0.9760 - val_loss: 0.1076 - val_accuracy: 0.9600\n",
      "Epoch 10/10\n",
      "63/63 [==============================] - 32s 509ms/step - loss: 0.0501 - accuracy: 0.9830 - val_loss: 0.0594 - val_accuracy: 0.9700\n"
     ]
    },
    {
     "name": "stderr",
     "output_type": "stream",
     "text": [
      "2023-03-30 20:55:00.149509: I tensorflow/core/common_runtime/executor.cc:1197] [/device:CPU:0] (DEBUG INFO) Executor start aborting (this does not indicate an error and you can ignore this message): INVALID_ARGUMENT: You must feed a value for placeholder tensor 'inputs' with dtype float and shape [?,32,32,64]\n",
      "\t [[{{node inputs}}]]\n",
      "2023-03-30 20:55:00.157436: I tensorflow/core/common_runtime/executor.cc:1197] [/device:CPU:0] (DEBUG INFO) Executor start aborting (this does not indicate an error and you can ignore this message): INVALID_ARGUMENT: You must feed a value for placeholder tensor 'inputs' with dtype float and shape [?,32,2048]\n",
      "\t [[{{node inputs}}]]\n",
      "2023-03-30 20:55:00.166096: I tensorflow/core/common_runtime/executor.cc:1197] [/device:CPU:0] (DEBUG INFO) Executor start aborting (this does not indicate an error and you can ignore this message): INVALID_ARGUMENT: You must feed a value for placeholder tensor 'inputs' with dtype float and shape [?,32,64]\n",
      "\t [[{{node inputs}}]]\n",
      "2023-03-30 20:55:00.524787: I tensorflow/core/common_runtime/executor.cc:1197] [/device:CPU:0] (DEBUG INFO) Executor start aborting (this does not indicate an error and you can ignore this message): INVALID_ARGUMENT: You must feed a value for placeholder tensor 'inputs' with dtype float and shape [?,32,32,64]\n",
      "\t [[{{node inputs}}]]\n",
      "2023-03-30 20:55:00.542740: I tensorflow/core/common_runtime/executor.cc:1197] [/device:CPU:0] (DEBUG INFO) Executor start aborting (this does not indicate an error and you can ignore this message): INVALID_ARGUMENT: You must feed a value for placeholder tensor 'inputs' with dtype float and shape [?,32,2048]\n",
      "\t [[{{node inputs}}]]\n",
      "2023-03-30 20:55:00.573889: I tensorflow/core/common_runtime/executor.cc:1197] [/device:CPU:0] (DEBUG INFO) Executor start aborting (this does not indicate an error and you can ignore this message): INVALID_ARGUMENT: You must feed a value for placeholder tensor 'inputs' with dtype float and shape [?,32,64]\n",
      "\t [[{{node inputs}}]]\n",
      "WARNING:absl:Found untraced functions such as _jit_compiled_convolution_op, _jit_compiled_convolution_op, _update_step_xla while saving (showing 3 of 3). These functions will not be directly callable after loading.\n"
     ]
    },
    {
     "name": "stdout",
     "output_type": "stream",
     "text": [
      "INFO:tensorflow:Assets written to: models/charttype_prediction_1.tf/assets\n"
     ]
    },
    {
     "name": "stderr",
     "output_type": "stream",
     "text": [
      "INFO:tensorflow:Assets written to: models/charttype_prediction_1.tf/assets\n"
     ]
    }
   ],
   "source": [
    "history = chart_type_model.fit(\n",
    "    ChartClassificationGenerator(annotations_train[:2000], shuffle=True),\n",
    "    validation_data=ChartClassificationGenerator(annotations_val[:100]),\n",
    "    epochs=10\n",
    ")\n",
    "\n",
    "chart_type_model.save(\"models/charttype_prediction_1.tf\")"
   ]
  },
  {
   "cell_type": "code",
   "execution_count": 37,
   "metadata": {},
   "outputs": [
    {
     "data": {
      "image/png": "[encoded data removed]",
      "text/plain": [
       "<Figure size 1000x500 with 2 Axes>"
      ]
     },
     "metadata": {},
     "output_type": "display_data"
    }
   ],
   "source": [
    "plt.figure(figsize=(10,5))\n",
    "plt.subplot(1, 2, 1)\n",
    "plt.plot(history.history['loss'], label='loss')\n",
    "plt.plot(history.history['val_loss'], label='val_loss')\n",
    "plt.title(\"Loss\")\n",
    "plt.axvline(x=np.argmin(history.history['val_loss']), c='r')\n",
    "plt.xlabel(\"Epoch\")\n",
    "# plt.yscale(\"log\")\n",
    "plt.legend()\n",
    "\n",
    "plt.subplot(1, 2, 2)\n",
    "plt.plot(history.history['accuracy'], label='accuracy')\n",
    "plt.plot(history.history['val_accuracy'], label='val_accuracy')\n",
    "plt.title(\"Accuracy\")\n",
    "plt.xlabel(\"Epoch\")\n",
    "# plt.yscale(\"log\")\n",
    "plt.legend()\n",
    "\n",
    "plt.tight_layout()\n",
    "plt.show()"
   ]
  },
  {
   "cell_type": "code",
   "execution_count": 38,
   "metadata": {},
   "outputs": [
    {
     "name": "stderr",
     "output_type": "stream",
     "text": [
      "2023-03-30 20:55:02.526347: I tensorflow/core/common_runtime/executor.cc:1197] [/device:CPU:0] (DEBUG INFO) Executor start aborting (this does not indicate an error and you can ignore this message): INVALID_ARGUMENT: You must feed a value for placeholder tensor 'Placeholder/_0' with dtype int32\n",
      "\t [[{{node Placeholder/_0}}]]\n"
     ]
    },
    {
     "name": "stdout",
     "output_type": "stream",
     "text": [
      "32/32 [==============================] - 24s 752ms/step\n",
      "Accuracy 0.957\n",
      "['scatter' 'vertical_bar' 'dot' 'line' 'horizontal_bar']\n"
     ]
    },
    {
     "data": {
      "text/plain": [
       "array([[183,   0,   0,   5,   0],\n",
       "       [  3, 306,   2,   7,   0],\n",
       "       [  0,   0,  88,   3,   0],\n",
       "       [  5,  17,   0, 380,   0],\n",
       "       [  0,   0,   0,   1,   0]])"
      ]
     },
     "execution_count": 38,
     "metadata": {},
     "output_type": "execute_result"
    }
   ],
   "source": [
    "from sklearn.metrics import confusion_matrix, accuracy_score\n",
    "\n",
    "predictions_test = chart_type_model.predict(ChartClassificationGenerator(annotations_test[:1000]))\n",
    "predictions_test = np.argmax(predictions_test, axis=1)\n",
    "test_y = annotations_test['chart-type'].map(chart_type_to_id).values[:1000]\n",
    "print(\"Accuracy\", accuracy_score(test_y, predictions_test))\n",
    "print(chart_type_labels)\n",
    "confusion_matrix(test_y, predictions_test)"
   ]
  },
  {
   "cell_type": "code",
   "execution_count": 52,
   "metadata": {},
   "outputs": [
    {
     "name": "stdout",
     "output_type": "stream",
     "text": [
      "../data/test/images/000b92c3b098.jpg : line\n",
      "../data/test/images/007a18eb4e09.jpg : scatter\n",
      "../data/test/images/00dcf883a459.jpg : scatter\n",
      "../data/test/images/00f5404753cf.jpg : scatter\n",
      "../data/test/images/01b45b831589.jpg : vertical_bar\n"
     ]
    }
   ],
   "source": [
    "def predict_image_charttype(path: str) -> str:\n",
    "    probs = chart_type_model.predict(np.array([ChartClassificationGenerator.load_image(test_image)]), verbose=0)\n",
    "    predicted_class = np.argmax(probs, axis=1)[0]\n",
    "    return id_to_chart_type[predicted_class]\n",
    "\n",
    "for test_image in sorted(glob.glob(TEST_IMAGES_PATH)):\n",
    "    print(test_image, \":\", predict_image_charttype(test_image))\n",
    "    "
   ]
  }
 ],
 "metadata": {
  "kernelspec": {
   "display_name": ".venv",
   "language": "python",
   "name": "python3"
  },
  "language_info": {
   "codemirror_mode": {
    "name": "ipython",
    "version": 3
   },
   "file_extension": ".py",
   "mimetype": "text/x-python",
   "name": "python",
   "nbconvert_exporter": "python",
   "pygments_lexer": "ipython3",
   "version": "3.9.12"
  },
  "orig_nbformat": 4
 },
 "nbformat": 4,
 "nbformat_minor": 2
}
